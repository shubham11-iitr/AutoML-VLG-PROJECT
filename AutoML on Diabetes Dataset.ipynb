{
 "cells": [
  {
   "cell_type": "code",
   "execution_count": 12,
   "id": "7ebb6136-f42d-4f4e-9d4d-5a0fa2b70b67",
   "metadata": {},
   "outputs": [],
   "source": [
    "import pandas as pd\n",
    "from sklearn.model_selection import train_test_split\n",
    "from sklearn.preprocessing import StandardScaler, LabelEncoder\n",
    "\n",
    "# Load dataset (replace with your dataset loading code)\n",
    "data = pd.read_csv('diabetes.csv')\n",
    "\n",
    "# Separate features and target\n",
    "X = data.drop(columns=['Outcome'])\n",
    "y = data['Outcome']"
   ]
  },
  {
   "cell_type": "code",
   "execution_count": 13,
   "id": "b2f2e1b2-7ba4-4111-9c51-6e4fabf4d8fe",
   "metadata": {},
   "outputs": [],
   "source": [
    "# Preprocess categorical features if any\n",
    "# Example: Encoding categorical features\n",
    "# label_encoder = LabelEncoder()\n",
    "# X['categorical_column'] = label_encoder.fit_transform(X['categorical_column'])"
   ]
  },
  {
   "cell_type": "code",
   "execution_count": 14,
   "id": "e0c983d2-cd3b-4d75-8029-3978d036671d",
   "metadata": {},
   "outputs": [],
   "source": [
    "# Split data into training and validation sets\n",
    "X_train, X_val, y_train, y_val = train_test_split(X, y, test_size=0.2, random_state=42)"
   ]
  },
  {
   "cell_type": "code",
   "execution_count": 15,
   "id": "796c99b6-fa79-46fa-bf60-f0e1fcf94fe8",
   "metadata": {},
   "outputs": [],
   "source": [
    "# Standardize numerical features if needed\n",
    "# scaler = StandardScaler()\n",
    "# X_train[numerical_columns] = scaler.fit_transform(X_train[numerical_columns])\n",
    "# X_val[numerical_columns] = scaler.transform(X_val[numerical_columns])"
   ]
  },
  {
   "cell_type": "code",
   "execution_count": 16,
   "id": "7d0adbcb-4502-4f83-a046-68f66cb7e934",
   "metadata": {},
   "outputs": [],
   "source": [
    "from sklearn.ensemble import RandomForestClassifier\n",
    "from sklearn.metrics import roc_auc_score\n",
    "from sklearn.model_selection import cross_val_score, StratifiedKFold"
   ]
  },
  {
   "cell_type": "markdown",
   "id": "7a335afb-092b-4679-a1e7-7da5e2f4693c",
   "metadata": {},
   "source": [
    "# **Random Forest model**"
   ]
  },
  {
   "cell_type": "code",
   "execution_count": 17,
   "id": "438e7667-6878-4d9d-bbe1-a71f4186b7b6",
   "metadata": {},
   "outputs": [],
   "source": [
    "# Define Random Forest model\n",
    "def create_model(n_estimators, max_depth, min_samples_split):\n",
    "    model = RandomForestClassifier(\n",
    "        n_estimators=int(n_estimators),\n",
    "        max_depth=int(max_depth),\n",
    "        min_samples_split=min_samples_split,\n",
    "        random_state=42,\n",
    "        n_jobs=-1\n",
    "    )\n",
    "    return model\n"
   ]
  },
  {
   "cell_type": "code",
   "execution_count": 18,
   "id": "058937af-a898-44db-920e-7a7e3b9d0a4a",
   "metadata": {},
   "outputs": [],
   "source": [
    "import numpy as np\n",
    "from sklearn.model_selection import cross_val_score, StratifiedKFold\n",
    "from sklearn.ensemble import RandomForestClassifier\n",
    "from skopt import gp_minimize"
   ]
  },
  {
   "cell_type": "markdown",
   "id": "0fbb9be8-a8b3-4087-8ea9-d367db0b9216",
   "metadata": {},
   "source": [
    "# **Bayesian Optimization**"
   ]
  },
  {
   "cell_type": "code",
   "execution_count": 19,
   "id": "668d90a6-fb64-4ff1-8dbb-80586a6bb3a3",
   "metadata": {},
   "outputs": [],
   "source": [
    "# Define the search space for Bayesian Optimization\n",
    "space = [\n",
    "    (10, 1000),      # n_estimators\n",
    "    (2, 20),         # max_depth\n",
    "    (2, 50)          # min_samples_split\n",
    "]"
   ]
  },
  {
   "cell_type": "code",
   "execution_count": 20,
   "id": "ba29b8e2-04c5-4319-8a45-9785b154e173",
   "metadata": {},
   "outputs": [],
   "source": [
    "# Define the objective function for BO\n",
    "def objective_function(params):\n",
    "    n_estimators = params[0]\n",
    "    max_depth = params[1]\n",
    "    min_samples_split = params[2]\n",
    "    \n",
    "    model = RandomForestClassifier(\n",
    "        n_estimators=n_estimators,\n",
    "        max_depth=max_depth,\n",
    "        min_samples_split=min_samples_split,\n",
    "        random_state=42,\n",
    "        n_jobs=-1\n",
    "    )\n",
    "    \n",
    "    # Cross-validation with StratifiedKFold\n",
    "    cv = StratifiedKFold(n_splits=5, shuffle=True, random_state=42)\n",
    "    roc_auc_scores = cross_val_score(model, X_train, y_train, cv=cv, scoring='roc_auc')\n",
    "    cross_val_scores = cross_val_score(model, X_train, y_train, cv=cv, scoring='accuracy')\n",
    "    mean_roc_auc = np.mean(roc_auc_scores)\n",
    "    mean_cross_val = np.mean(cross_val_scores)\n",
    "    print(\"Cross Val Score with Bayesian Optimization: \",mean_cross_val)\n",
    "    \n",
    "    return -mean_roc_auc  # Minimize negative ROC AUC (BO maximizes)"
   ]
  },
  {
   "cell_type": "code",
   "execution_count": 21,
   "id": "9f239c22-c4db-441c-afe4-4173578a56f3",
   "metadata": {},
   "outputs": [
    {
     "name": "stdout",
     "output_type": "stream",
     "text": [
      "Cross Val Score with Bayesian Optimization:  0.767093162734906\n",
      "Cross Val Score with Bayesian Optimization:  0.7655071304811408\n",
      "Cross Val Score with Bayesian Optimization:  0.7687858190057311\n",
      "Cross Val Score with Bayesian Optimization:  0.7622151139544182\n",
      "Cross Val Score with Bayesian Optimization:  0.7345595095295214\n",
      "Cross Val Score with Bayesian Optimization:  0.7622417699586832\n",
      "Cross Val Score with Bayesian Optimization:  0.7687591630014661\n",
      "Cross Val Score with Bayesian Optimization:  0.7687591630014661\n",
      "Cross Val Score with Bayesian Optimization:  0.765480474476876\n",
      "Cross Val Score with Bayesian Optimization:  0.7670798347327735\n",
      "Cross Val Score with Bayesian Optimization:  0.7671331467413035\n",
      "Cross Val Score with Bayesian Optimization:  0.7606024256963881\n",
      "Cross Val Score with Bayesian Optimization:  0.7655071304811409\n",
      "Cross Val Score with Bayesian Optimization:  0.765480474476876\n",
      "Cross Val Score with Bayesian Optimization:  0.7638544582167134\n",
      "Cross Val Score with Bayesian Optimization:  0.7752499000399841\n",
      "Cross Val Score with Bayesian Optimization:  0.7671064907370384\n",
      "Cross Val Score with Bayesian Optimization:  0.7475276556044248\n",
      "Cross Val Score with Bayesian Optimization:  0.7687325069972012\n",
      "Cross Val Score with Bayesian Optimization:  0.7638544582167134\n",
      "Best hyperparameters: {'n_estimators': 465, 'max_depth': 8, 'min_samples_split': 9}\n"
     ]
    }
   ],
   "source": [
    "# Perform Bayesian Optimization\n",
    "res_gp = gp_minimize(objective_function, space, n_calls=20, random_state=42)\n",
    "\n",
    "# Extract the best hyperparameters\n",
    "best_hyperparams = {\n",
    "    'n_estimators': res_gp.x[0],\n",
    "    'max_depth': res_gp.x[1],\n",
    "    'min_samples_split': res_gp.x[2]\n",
    "}\n",
    "\n",
    "print(\"Best hyperparameters:\", best_hyperparams)"
   ]
  },
  {
   "cell_type": "code",
   "execution_count": 22,
   "id": "bf04243e-71fd-4d81-b1a4-fca6af54af81",
   "metadata": {},
   "outputs": [],
   "source": [
    "# Evaluate on validation set with best hyperparameters\n",
    "best_model = create_model(best_hyperparams['n_estimators'],\n",
    "                          best_hyperparams['max_depth'],\n",
    "                          best_hyperparams['min_samples_split'])"
   ]
  },
  {
   "cell_type": "markdown",
   "id": "5493cac0-04e9-4db7-ac33-4fb7531f33f3",
   "metadata": {},
   "source": [
    "# **ROC-AUC and Cross-val Score after Bayesian-optimization**"
   ]
  },
  {
   "cell_type": "code",
   "execution_count": 23,
   "id": "46295bf5-f421-4955-ba2f-29bdbae95129",
   "metadata": {},
   "outputs": [
    {
     "name": "stdout",
     "output_type": "stream",
     "text": [
      "ROC AUC with optimized hyperparameters: 0.83544536271809\n",
      "Cross Val Score with optimized hyperparameters:  0.7687858190057311\n",
      "ROC AUC with default hyperparameters: 0.8120293847566575\n",
      "Cross Val Score with default hyperparameters:  0.7736372117819539\n"
     ]
    }
   ],
   "source": [
    "best_model.fit(X_train, y_train)\n",
    "y_pred = best_model.predict_proba(X_val)[:, 1]\n",
    "roc_auc_scores_bo = roc_auc_score(y_val, y_pred)\n",
    "print(f\"ROC AUC with optimized hyperparameters: {roc_auc_scores_bo}\")\n",
    "cv = StratifiedKFold(n_splits=5, shuffle=True, random_state=42)\n",
    "cross_val_scores = cross_val_score(best_model, X_train, y_train, cv=cv, scoring='accuracy')\n",
    "mean_cross_val = np.mean(cross_val_scores)\n",
    "print(\"Cross Val Score with optimized hyperparameters: \",mean_cross_val)\n",
    "\n",
    "# Compare with default parameters\n",
    "default_model = RandomForestClassifier(random_state=42)\n",
    "default_model.fit(X_train, y_train)\n",
    "y_pred_default = default_model.predict_proba(X_val)[:, 1]\n",
    "roc_auc_default = roc_auc_score(y_val, y_pred_default)\n",
    "print(f\"ROC AUC with default hyperparameters: {roc_auc_default}\")\n",
    "cross_val_scores = cross_val_score(default_model, X_train, y_train, cv=cv, scoring='accuracy')\n",
    "mean_cross_val = np.mean(cross_val_scores)\n",
    "print(\"Cross Val Score with default hyperparameters: \",mean_cross_val)"
   ]
  },
  {
   "cell_type": "markdown",
   "id": "b4dcd95b",
   "metadata": {},
   "source": [
    "# **Optimisation using hyperopt**"
   ]
  },
  {
   "cell_type": "code",
   "execution_count": 54,
   "id": "622f13a3",
   "metadata": {},
   "outputs": [],
   "source": [
    "from hyperopt import fmin, tpe, hp, Trials, STATUS_OK\n",
    "from sklearn.model_selection import cross_val_score\n",
    "from sklearn.ensemble import RandomForestClassifier\n",
    "from sklearn.metrics import make_scorer, roc_auc_score\n",
    "import numpy as np"
   ]
  },
  {
   "cell_type": "code",
   "execution_count": 55,
   "id": "9951adb0",
   "metadata": {},
   "outputs": [],
   "source": [
    "def objective(params):\n",
    "    clf = RandomForestClassifier(**params)\n",
    "    score = cross_val_score(clf, X_train, y_train, scoring=make_scorer(roc_auc_score)).mean()\n",
    "    return {'loss': -score, 'status': STATUS_OK, 'roc_auc_score': score}"
   ]
  },
  {
   "cell_type": "code",
   "execution_count": 56,
   "id": "e112fe01",
   "metadata": {},
   "outputs": [],
   "source": [
    "space = {\n",
    "    'n_estimators': hp.choice('n_estimators', range(10, 1000)),\n",
    "    'max_depth': hp.choice('max_depth', range(2, 20)),\n",
    "    'min_samples_split': hp.choice('min_samples_split', range(2, 50)),\n",
    "}"
   ]
  },
  {
   "cell_type": "code",
   "execution_count": 57,
   "id": "dc0481c6",
   "metadata": {},
   "outputs": [
    {
     "name": "stdout",
     "output_type": "stream",
     "text": [
      "100%|██████████| 20/20 [00:52<00:00,  2.63s/trial, best loss: -0.7372740556170788]\n",
      "Best parameters by Bayesian Optimisation using hyperopt: {'max_depth': 7, 'min_samples_split': 19, 'n_estimators': 522}\n",
      "All ROC-AUC scores: [0.6612180078749846, 0.7022491386735573, 0.7008318465198311, 0.7117575160986014, 0.6984991386735573, 0.7372740556170788, 0.7233217464419015, 0.7174360157499693, 0.7312139063204954, 0.7139158053402239, 0.7068294983798861, 0.7080229481973668, 0.7242937123169682, 0.7326865694598254, 0.7229072843607727, 0.7116139616914812, 0.7045664144210656, 0.7102848529592716, 0.7336431032361265, 0.7279246646979206]\n"
     ]
    }
   ],
   "source": [
    "trials = Trials()\n",
    "best = fmin(\n",
    "    fn=objective,\n",
    "    space=space,\n",
    "    algo=tpe.suggest,\n",
    "    max_evals=20,\n",
    "    trials=trials\n",
    ")\n",
    "# Extract all ROC-AUC scores\n",
    "roc_auc_scores_hyperopt = [-trial['result']['loss'] for trial in trials.trials]\n",
    "\n",
    "print(\"Best parameters by Bayesian Optimisation using hyperopt:\", best)\n",
    "print(\"All ROC-AUC scores:\", roc_auc_scores_hyperopt)"
   ]
  },
  {
   "cell_type": "code",
   "execution_count": 58,
   "id": "e3a7a72e",
   "metadata": {},
   "outputs": [],
   "source": [
    "# Evaluate on validation set with best hyperparameters\n",
    "best_model = create_model(best['n_estimators'],\n",
    "                          best['max_depth'],\n",
    "                          best['min_samples_split'])"
   ]
  },
  {
   "cell_type": "code",
   "execution_count": 59,
   "id": "8b0e08e4",
   "metadata": {},
   "outputs": [
    {
     "name": "stdout",
     "output_type": "stream",
     "text": [
      "ROC AUC Score using hyperopt: 0.8385674931129476\n"
     ]
    }
   ],
   "source": [
    "best_model.fit(X_train, y_train)\n",
    "y_pred = best_model.predict_proba(X_val)[:, 1]\n",
    "roc_auc_scores_hyper = roc_auc_score(y_val, y_pred)\n",
    "print(f\"ROC AUC Score using hyperopt: {roc_auc_scores_hyper}\")"
   ]
  },
  {
   "cell_type": "markdown",
   "id": "2fc2cba4-b0ed-4d98-954f-370d87503adf",
   "metadata": {},
   "source": [
    "# **tpe Optimization**"
   ]
  },
  {
   "cell_type": "code",
   "execution_count": 28,
   "id": "76b4e1a1-eedf-41ba-a78b-5ff3428beac8",
   "metadata": {},
   "outputs": [],
   "source": [
    "def objective_function(params):\n",
    "    model = create_model(params['n_estimators'],\n",
    "                         params['max_depth'],\n",
    "                         params['min_samples_split'])\n",
    "    \n",
    "    # Cross-validation with StratifiedKFold\n",
    "    cv = StratifiedKFold(n_splits=5, shuffle=True, random_state=42)\n",
    "    roc_auc_scores = cross_val_score(model, X_train, y_train, cv=cv, scoring='roc_auc')\n",
    "    cross_val_scores = cross_val_score(model, X_train, y_train, cv=cv, scoring='accuracy')\n",
    "    mean_roc_auc = np.mean(roc_auc_scores)\n",
    "    mean_cross_val = np.mean(cross_val_scores)\n",
    "    print(\"Cross Val Score with tpe Optimization: \",mean_cross_val)\n",
    "    \n",
    "    return -mean_roc_auc  # Minimize negative ROC AUC (TPE maximizes)"
   ]
  },
  {
   "cell_type": "code",
   "execution_count": 29,
   "id": "e23340dc-1853-4d5f-8fa0-5275b3ff580d",
   "metadata": {},
   "outputs": [],
   "source": [
    "roc_auc_scores_tpe = []\n",
    "\n",
    "def tpe_optimization(objective_function, space, n_calls):\n",
    "    # Initialize lists to store hyperparameters and objective function values\n",
    "    params = []\n",
    "    results = []\n",
    "    \n",
    "    for _ in range(n_calls):\n",
    "        # Sample hyperparameters from the search space\n",
    "        next_params = {key: np.random.choice(values) for key, values in space.items()}\n",
    "        \n",
    "        # Evaluate objective function\n",
    "        score = objective_function(next_params)\n",
    "        \n",
    "        # Store results\n",
    "        params.append(next_params)\n",
    "        results.append(score)\n",
    "        roc_auc_scores_tpe.append(-score)\n",
    "        \n",
    "    # Get index of best result\n",
    "    best_index = np.argmax(results)\n",
    "    best_params = params[best_index]\n",
    "    \n",
    "    return best_params"
   ]
  },
  {
   "cell_type": "code",
   "execution_count": 30,
   "id": "6e319cbe-9d20-4d66-b103-6a0119348e5f",
   "metadata": {},
   "outputs": [],
   "source": [
    "# Define the search space\n",
    "space = {\n",
    "    'n_estimators': [10, 100, 500, 1000],\n",
    "    'max_depth': [2, 5, 10, 20],\n",
    "    'min_samples_split': [2, 5, 10, 20, 50]\n",
    "}"
   ]
  },
  {
   "cell_type": "code",
   "execution_count": 31,
   "id": "b83b22fa-3382-414d-8114-54e3020d0926",
   "metadata": {},
   "outputs": [
    {
     "name": "stdout",
     "output_type": "stream",
     "text": [
      "Cross Val Score with tpe Optimization:  0.7377315740370519\n",
      "Cross Val Score with tpe Optimization:  0.765480474476876\n",
      "Cross Val Score with tpe Optimization:  0.752472344395575\n",
      "Cross Val Score with tpe Optimization:  0.7639077702252433\n",
      "Cross Val Score with tpe Optimization:  0.7687458349993337\n",
      "Cross Val Score with tpe Optimization:  0.7639077702252433\n",
      "Cross Val Score with tpe Optimization:  0.7361721977875516\n",
      "Cross Val Score with tpe Optimization:  0.7671064907370386\n",
      "Cross Val Score with tpe Optimization:  0.7361855257896841\n",
      "Cross Val Score with tpe Optimization:  0.767093162734906\n",
      "Cross Val Score with tpe Optimization:  0.7719712115153937\n",
      "Cross Val Score with tpe Optimization:  0.7638677862188458\n",
      "Cross Val Score with tpe Optimization:  0.7687458349993336\n",
      "Cross Val Score with tpe Optimization:  0.7573370651739304\n",
      "Cross Val Score with tpe Optimization:  0.7361721977875516\n",
      "Cross Val Score with tpe Optimization:  0.7720378515260563\n",
      "Cross Val Score with tpe Optimization:  0.732880181260829\n",
      "Cross Val Score with tpe Optimization:  0.7687191789950686\n",
      "Cross Val Score with tpe Optimization:  0.7524590163934426\n",
      "Cross Val Score with tpe Optimization:  0.7687458349993337\n",
      "Best hyperparameters: {'n_estimators': 10, 'max_depth': 20, 'min_samples_split': 5}\n"
     ]
    }
   ],
   "source": [
    "# Perform optimization using TPE\n",
    "best_hyperparams = tpe_optimization(objective_function, space, n_calls=20)\n",
    "\n",
    "print(\"Best hyperparameters:\", best_hyperparams)"
   ]
  },
  {
   "cell_type": "code",
   "execution_count": 32,
   "id": "daff8603-4829-4676-a138-a18703fd46d1",
   "metadata": {},
   "outputs": [],
   "source": [
    "# Evaluate on validation set with best hyperparameters\n",
    "best_model = create_model(best_hyperparams['n_estimators'],\n",
    "                          best_hyperparams['max_depth'],\n",
    "                          best_hyperparams['min_samples_split'])"
   ]
  },
  {
   "cell_type": "markdown",
   "id": "a9068f86-6488-418e-a020-fdddac23313b",
   "metadata": {},
   "source": [
    "# **ROC-AUC and Cross-val Score after tpe-optimization**"
   ]
  },
  {
   "cell_type": "code",
   "execution_count": 33,
   "id": "4161fe00-614b-4f12-a161-ab9d6a61dbb5",
   "metadata": {},
   "outputs": [
    {
     "name": "stdout",
     "output_type": "stream",
     "text": [
      "ROC AUC with optimized hyperparameters: 0.7487603305785124\n",
      "Cross Val Score with optimized hyperparameters:  0.732880181260829\n",
      "ROC AUC with default hyperparameters: 0.8120293847566575\n",
      "Cross Val Score with default hyperparameters:  0.7736372117819539\n"
     ]
    }
   ],
   "source": [
    "best_model.fit(X_train, y_train)\n",
    "y_pred = best_model.predict_proba(X_val)[:, 1]\n",
    "roc_auc_scores_bo = roc_auc_score(y_val, y_pred)\n",
    "print(f\"ROC AUC with optimized hyperparameters: {roc_auc_scores_bo}\")\n",
    "cv = StratifiedKFold(n_splits=5, shuffle=True, random_state=42)\n",
    "cross_val_scores = cross_val_score(best_model, X_train, y_train, cv=cv, scoring='accuracy')\n",
    "mean_cross_val = np.mean(cross_val_scores)\n",
    "print(\"Cross Val Score with optimized hyperparameters: \",mean_cross_val)\n",
    "\n",
    "# Compare with default parameters\n",
    "default_model = RandomForestClassifier(random_state=42)\n",
    "default_model.fit(X_train, y_train)\n",
    "y_pred_default = default_model.predict_proba(X_val)[:, 1]\n",
    "roc_auc_default = roc_auc_score(y_val, y_pred_default)\n",
    "print(f\"ROC AUC with default hyperparameters: {roc_auc_default}\")\n",
    "cross_val_scores = cross_val_score(default_model, X_train, y_train, cv=cv, scoring='accuracy')\n",
    "mean_cross_val = np.mean(cross_val_scores)\n",
    "print(\"Cross Val Score with default hyperparameters: \",mean_cross_val)"
   ]
  },
  {
   "cell_type": "markdown",
   "id": "16ea6943",
   "metadata": {},
   "source": [
    "# **Summary**"
   ]
  },
  {
   "cell_type": "markdown",
   "id": "69530f0e",
   "metadata": {},
   "source": [
    "Best hyperparameters with Bayesian Optimisation: {'n_estimators': 465, 'max_depth': 8, 'min_samples_split': 9}"
   ]
  },
  {
   "cell_type": "markdown",
   "id": "b699cace",
   "metadata": {},
   "source": [
    "Best hyperparameters with tpe Optimisation: {'n_estimators': 10, 'max_depth': 20, 'min_samples_split': 5}"
   ]
  },
  {
   "cell_type": "markdown",
   "id": "ede3b37b",
   "metadata": {},
   "source": [
    "Best parameters using hyperopt: {'n_estimators': 522, 'max_depth': 7, 'min_samples_split': 19}"
   ]
  },
  {
   "cell_type": "markdown",
   "id": "656936b1",
   "metadata": {},
   "source": [
    "ROC AUC Score with Bayesian Optimisation: 0.83544536271809"
   ]
  },
  {
   "cell_type": "markdown",
   "id": "2dae7598",
   "metadata": {},
   "source": [
    "ROC AUC Score with tpe Optimisation: 0.7487603305785124"
   ]
  },
  {
   "cell_type": "markdown",
   "id": "5e94ca30",
   "metadata": {},
   "source": [
    "ROC AUC Score with using hyperopt: 0.8385674931129476"
   ]
  },
  {
   "cell_type": "markdown",
   "id": "556b1535-44ca-4dc4-ad26-df3902435cd0",
   "metadata": {},
   "source": [
    "# **Learning Rate Distribution**"
   ]
  },
  {
   "cell_type": "code",
   "execution_count": 60,
   "id": "09a2a4b3-bef0-4558-a344-9fa5d9fc19c5",
   "metadata": {},
   "outputs": [
    {
     "data": {
      "image/png": "[encoded data removed]",
      "text/plain": [
       "<Figure size 1200x600 with 1 Axes>"
      ]
     },
     "metadata": {},
     "output_type": "display_data"
    }
   ],
   "source": [
    "import numpy as np\n",
    "import pandas as pd\n",
    "import matplotlib.pyplot as plt\n",
    "from sklearn.model_selection import train_test_split, cross_val_score, StratifiedKFold\n",
    "from sklearn.ensemble import RandomForestClassifier\n",
    "from skopt import gp_minimize\n",
    "from hyperopt import fmin, hp, tpe, Trials\n",
    "\n",
    "# Split data into training and validation sets\n",
    "X_train, X_val, y_train, y_val = train_test_split(X, y, test_size=0.2, random_state=42)\n",
    "\n",
    "# Define the model and objective function for Bayesian Optimization (BO)\n",
    "def objective_function_bo(params):\n",
    "    model = RandomForestClassifier(\n",
    "        n_estimators=int(params[0]),\n",
    "        max_depth=int(params[1]),\n",
    "        min_samples_split=params[2],\n",
    "        random_state=42,\n",
    "        n_jobs=-1\n",
    "    )\n",
    "    \n",
    "    # Cross-validation with StratifiedKFold\n",
    "    cv = StratifiedKFold(n_splits=5, shuffle=True, random_state=42)\n",
    "    roc_auc_scores = cross_val_score(model, X_train, y_train, cv=cv, scoring='roc_auc')\n",
    "    mean_roc_auc = np.mean(roc_auc_scores)\n",
    "    \n",
    "    return -mean_roc_auc  # Minimize negative ROC AUC (BO maximizes)\n",
    "\n",
    "# Define the search space for Bayesian Optimization (BO)\n",
    "space_bo = [\n",
    "    (10, 1000),      # n_estimators\n",
    "    (2, 20),         # max_depth\n",
    "    (2, 50)          # min_samples_split\n",
    "]\n",
    "\n",
    "# Perform Bayesian Optimization (BO)\n",
    "res_gp_bo = gp_minimize(objective_function_bo, space_bo, n_calls=20, random_state=42)\n",
    "\n",
    "# Extract best ROC AUC scores found by Bayesian Optimization (BO)\n",
    "best_score_bo  = {\n",
    "    'n_estimators': res_gp_bo.x[0],\n",
    "    'max_depth': res_gp_bo.x[1],\n",
    "    'min_samples_split': res_gp_bo.x[2]\n",
    "}\n",
    "roc_auc_scores_bo = [-result for result in res_gp_bo.func_vals]\n",
    "roc_auc_scores_bo\n",
    "\n",
    "# Plot learning rate distribution curves\n",
    "plt.figure(figsize=(12, 6))\n",
    "\n",
    "# Plot Bayesian Optimization (BO)\n",
    "plt.plot(np.arange(1, len(roc_auc_scores_bo)+1), roc_auc_scores_bo, marker='o', label='Bayesian Optimization (BO)', color='blue')\n",
    "\n",
    "# Plot hyperopt\n",
    "plt.plot(np.arange(1, len(roc_auc_scores_hyperopt)+1), roc_auc_scores_hyperopt, marker='o', label='Hyperopt', color='red')\n",
    "\n",
    "# Plot Tree-Parzen Estimators (TPE)\n",
    "plt.plot(np.arange(1, len(roc_auc_scores_tpe)+1), roc_auc_scores_tpe, marker='o', label='Tree-Parzen Estimators (TPE)', color='green')\n",
    "\n",
    "plt.xlabel('Iterations')\n",
    "plt.ylabel('ROC AUC Score')\n",
    "plt.title('Learning Rate Distribution Curves Comparison')\n",
    "plt.legend()\n",
    "plt.grid(True)\n",
    "plt.tight_layout()\n",
    "plt.show()\n"
   ]
  }
 ],
 "metadata": {
  "kernelspec": {
   "display_name": "Python 3 (ipykernel)",
   "language": "python",
   "name": "python3"
  },
  "language_info": {
   "codemirror_mode": {
    "name": "ipython",
    "version": 3
   },
   "file_extension": ".py",
   "mimetype": "text/x-python",
   "name": "python",
   "nbconvert_exporter": "python",
   "pygments_lexer": "ipython3",
   "version": "3.12.2"
  }
 },
 "nbformat": 4,
 "nbformat_minor": 5
}
